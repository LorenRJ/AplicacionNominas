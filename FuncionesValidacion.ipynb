{
 "cells": [
  {
   "cell_type": "markdown",
   "id": "596c9711",
   "metadata": {},
   "source": [
    "# Funciones"
   ]
  },
  {
   "cell_type": "markdown",
   "id": "47dbda93",
   "metadata": {},
   "source": [
    "# Validación DNI"
   ]
  },
  {
   "cell_type": "code",
   "execution_count": 7,
   "id": "67e52180",
   "metadata": {},
   "outputs": [],
   "source": [
    "numero=[]\n",
    "letras = {0:\"T\",1:\"R\",2:\"W\",3:\"A\",4:\"G\",5:\"M\",6:\"Y\",7:\"F\",8:\"P\",9:\"D\",10:\"X\",11:\"B\",12:\"N\",13:\"J\",14:\"Z\",15:\"S\",16:\"Q\",17:\"V\",18:\"H\",19:\"L\",20:\"C\",21:\"K\",22:\"E\"}"
   ]
  },
  {
   "cell_type": "code",
   "execution_count": 21,
   "id": "43cffd2a",
   "metadata": {},
   "outputs": [],
   "source": [
    "letras = {0:\"T\",1:\"R\",2:\"W\",3:\"A\",4:\"G\",5:\"M\",6:\"Y\",7:\"F\",8:\"P\",9:\"D\",10:\"X\",11:\"B\",12:\"N\",13:\"J\",14:\"Z\",15:\"S\",16:\"Q\",17:\"V\",18:\"H\",19:\"L\",20:\"C\",21:\"K\",22:\"E\"}\n",
    "def validar_nif(numero):\n",
    "    if (len(numero) == 9) & (numero[:8].isdigit()):\n",
    "            num1 = numero.upper()\n",
    "            letra = num1[8]\n",
    "            \n",
    "            for i,c in letras.items():\n",
    "                if letra == c:\n",
    "                    print(\"Formato correcto\")\n",
    "                    nume = num1.rstrip(num1[-1])\n",
    "                    por = int(nume)%23\n",
    "                    print(por)\n",
    "                    print(letra)\n",
    "                    for h,j in letras.items():\n",
    "                        if  (por== h) & (letra == j):\n",
    "                            print(\"DNI CORRECTO\")\n",
    "                            break;\n",
    "                else: \n",
    "                    print(\"Dni introducido es incorrecto\")\n",
    "    else: \n",
    "        print(\"Formato no valido\")\n",
    "    "
   ]
  },
  {
   "cell_type": "code",
   "execution_count": null,
   "id": "52f5e9d1",
   "metadata": {
    "scrolled": false
   },
   "outputs": [],
   "source": [
    "validar_nif(input(\"Introduce dni\"))"
   ]
  },
  {
   "cell_type": "markdown",
   "id": "71e948d7",
   "metadata": {},
   "source": [
    "# Validación NIE"
   ]
  },
  {
   "cell_type": "code",
   "execution_count": 14,
   "id": "5f21ba5e",
   "metadata": {},
   "outputs": [
    {
     "name": "stdout",
     "output_type": "stream",
     "text": [
      "X\n",
      "Y\n",
      "9408905\n"
     ]
    }
   ],
   "source": [
    "letras1 = {0:\"T\",1:\"R\",2:\"W\",3:\"A\",4:\"G\",5:\"M\",6:\"Y\",7:\"F\",8:\"P\",9:\"D\",10:\"X\",11:\"B\",12:\"N\",13:\"J\",14:\"Z\",15:\"S\",16:\"Q\",17:\"V\",18:\"H\",19:\"L\",20:\"C\",21:\"K\",22:\"E\"}\n",
    "numero1 = \"Y9408905X\"\n",
    "abc = [\"Y\",\"X\",\"Z\"]\n",
    "print(numero1[-1:])\n",
    "print(numero1[:1])\n",
    "print(numero1[1:-1])\n",
    "def validacion_nie(numeronie):\n",
    "    if (len(numeronie) == 9)&(numeronie[1:-1].isdigit()):\n",
    "        for x,b in letras1.items():\n",
    "            if(numeronie[-1:] == b):\n",
    "                num2 = x\n",
    "                print(\"Numero final introducido con exito\",\" \",x,\" \",b)\n",
    "                if (numeronie[:1] == \"X\"):\n",
    "                    print(\"A\",numeronie[:1])\n",
    "                    a=0\n",
    "                    numeronie = numeronie.replace(\"X\",\"0\",1)\n",
    "                    numerof = numeronief[:-1]\n",
    "                    numerof = int(numerof)\n",
    "                    numerof2 = numerof % 23\n",
    "                    if numerof2 == x:\n",
    "                        print(\"NIF introducido correcto\")\n",
    "                elif(numeronie[:1]==\"Y\"):\n",
    "                    print(\"B\",numeronie[:1])\n",
    "                    b=1\n",
    "                    numeronief = numeronie.replace(\"Y\",\"1\",1)\n",
    "                    numerof = numeronief[:-1]\n",
    "                    numerof = int(numerof)\n",
    "                    numerof2 = numerof % 23\n",
    "                    print(numerof2)\n",
    "                    if numerof2 == x:\n",
    "                        print(\"NIF introducido correcto\")\n",
    "                elif(numeronie[:1]==\"Z\"):\n",
    "                    print(\"C\",numeronie[:1])\n",
    "                    c=2\n",
    "                    numeronie = numeronie.replace(\"Z\",\"2\",1)\n",
    "                    numerof = numeronief[:-1]\n",
    "                    numerof = int(numerof)\n",
    "                    numerof2 = numerof % 23 \n",
    "                    if numerof2 == x:\n",
    "                        print(\"NIF introducido correcto\")\n",
    "        print(\"Numero introducido mal introducido\")\n",
    "    else:\n",
    "        print(\"Numero introducido incorrecto\")"
   ]
  },
  {
   "cell_type": "code",
   "execution_count": 19,
   "id": "21ba411c",
   "metadata": {},
   "outputs": [
    {
     "name": "stdout",
     "output_type": "stream",
     "text": [
      "Introduce nie00991065W\n",
      "Numero final introducido con exito   2   W\n",
      "Numero introducido mal introducido\n"
     ]
    }
   ],
   "source": [
    "validacion_nie(input(\"Introduce nie\"))"
   ]
  },
  {
   "cell_type": "markdown",
   "id": "4cb7ad0b",
   "metadata": {},
   "source": [
    "# Validacion naf naf = \"281234567840\""
   ]
  },
  {
   "cell_type": "code",
   "execution_count": 10,
   "id": "f59486d2",
   "metadata": {},
   "outputs": [],
   "source": [
    "def validacion_naf(naf):\n",
    "    naf = naf.replace(\" \",\"\")\n",
    "    if len(naf)== 12:\n",
    "        if naf.isdigit():\n",
    "            a = int(naf[:2])\n",
    "            b = int(naf[2:-2])\n",
    "            c = int(naf[-2:])\n",
    "            if b < 10000000:\n",
    "                print(\"Mayor que 1M\")\n",
    "                codc = ((b+(a*10000000))%97)\n",
    "                print(codc)\n",
    "                if codc == c:\n",
    "                    print(\"NAF VALIDO\")\n",
    "                else:\n",
    "                    print(\"NAF NO VALIDO\")\n",
    "            elif b > 10000000:\n",
    "                print(\"Menor que 1M\")\n",
    "                codc1 = str(a)+str(b)\n",
    "                codc = int(codc1)%97\n",
    "                print(codc)\n",
    "                if codc == c:\n",
    "                    print(\"NAF VALIDADO CORRECTAMENTE\")\n",
    "                else:\n",
    "                    print(\"NAF INCORRECTO\")\n",
    "        else:\n",
    "            print(\"Numero mal introducido\")\n",
    "    else:\n",
    "        print(\"Numero NAF mal introducido\")"
   ]
  },
  {
   "cell_type": "code",
   "execution_count": 12,
   "id": "e0d95d41",
   "metadata": {},
   "outputs": [
    {
     "name": "stdout",
     "output_type": "stream",
     "text": [
      "Introduce naf0934\n",
      "Numero NAF mal introducido\n"
     ]
    }
   ],
   "source": [
    "validacion_naf(input(\"Introduce naf\"))"
   ]
  },
  {
   "cell_type": "markdown",
   "id": "944aba17",
   "metadata": {},
   "source": [
    "# Validación cuenta bancaria"
   ]
  },
  {
   "cell_type": "code",
   "execution_count": 53,
   "id": "677225fd",
   "metadata": {},
   "outputs": [],
   "source": [
    "def validacion_banco(cuenta):\n",
    "    print(cuenta)\n",
    "    cuenta = cuenta.replace(\" \",\"\")\n",
    "    cuentavalidar = cuenta[8:10]\n",
    "    print(\"hola \"+ cuentavalidar)\n",
    "    if len(cuenta) == 20:\n",
    "        if cuenta.isdigit():\n",
    "            cuentaf = (int(cuenta[0])*4) + (int(cuenta[1])*8) + (int(cuenta[2])*5) + (int(cuenta[3])*10)\n",
    "            cuenta2 = cuenta[4:8]\n",
    "            cuentaf2 = (int(cuenta2[0])*9)+(int(cuenta2[1])*7)+(int(cuenta2[2])*3)+(int(cuenta2[3])*6)\n",
    "            digcon1 = 11-((cuentaf + cuentaf2)%11)\n",
    "            cuenta3 = cuenta[10:]\n",
    "            cuentaf3 = (int(cuenta3[0])*1)+(int(cuenta3[1])*2)+(int(cuenta3[2])*4)+(int(cuenta3[3])*8)+(int(cuenta3[4])*5)+(int(cuenta3[5])*10)+(int(cuenta3[6])*9)+(int(cuenta3[7])*7)+(int(cuenta3[8])*3)+(int(cuenta3[9])*6)\n",
    "            digcon2 = 11 - (cuentaf3 % 11)\n",
    "            if digcon1 == 10:\n",
    "                digcon1 = 1\n",
    "            if digcon2 == 10:\n",
    "                digcon2 = 1\n",
    "            digcontrol = str(str(digcon1) + str(digcon2))\n",
    "            numerocompleto = cuenta3 + \"14\" + \"28\"+digcontrol\n",
    "            final = 98-(int(numerocompleto)%97)\n",
    "            print(numerocompleto)\n",
    "            if str(final) == cuentavalidar:\n",
    "                print(\"Iban correcto\")\n",
    "            else:\n",
    "                print(\"Iban introducido no es correcto\")\n",
    "        else: \n",
    "            print(\"Iban mal introducido\")\n",
    "    else:\n",
    "        print(\"Iban mal introducido\")"
   ]
  },
  {
   "cell_type": "code",
   "execution_count": 54,
   "id": "c22fd609",
   "metadata": {},
   "outputs": [
    {
     "name": "stdout",
     "output_type": "stream",
     "text": [
      "Introduce numero de cuenta00494859422216079166\n",
      "00494859422216079166\n",
      "hola 42\n",
      "2216079166142845\n",
      "Iban introducido no es correcto\n"
     ]
    }
   ],
   "source": [
    "validacion_banco(input(\"Introduce numero de cuenta\"))"
   ]
  }
 ],
 "metadata": {
  "kernelspec": {
   "display_name": "Python 3.9.13 ('base')",
   "language": "python",
   "name": "python3"
  },
  "language_info": {
   "codemirror_mode": {
    "name": "ipython",
    "version": 3
   },
   "file_extension": ".py",
   "mimetype": "text/x-python",
   "name": "python",
   "nbconvert_exporter": "python",
   "pygments_lexer": "ipython3",
   "version": "3.9.13"
  },
  "vscode": {
   "interpreter": {
    "hash": "69cd0a572ff52a11fd8f487f99007ffc15103838880499275a9c4625d843a5ae"
   }
  }
 },
 "nbformat": 4,
 "nbformat_minor": 5
}
